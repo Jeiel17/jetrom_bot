import telebot

CHAVE_API = "********************"

bot = telebot.TeleBot(CHAVE_API)

@bot.message_handler(commands=["Enigma_free"])
def Enigma_free(mensagem):
    bot.send_message(mensagem.chat.id, "https://play.google.com/store/apps/details?id=br.com.well.enigma")

@bot.message_handler(commands=["Enigma_Pro"])
def Enigma_Pro(mensagem):
    bot.send_message(mensagem.chat.id, "https://play.google.com/store/apps/details?id=br.com.well.enigmapro")

@bot.message_handler(commands=["Soteador"])
def Soteador(mensagem):
    bot.send_message(mensagem.chat.id, "https://play.google.com/store/apps/details?id=br.com.well.sortear")
    
@bot.message_handler(commands=["Testa_porta"])
def Testa_porta(mensagem):
    bot.send_message(mensagem.chat.id, "https://play.google.com/store/apps/details?id=br.com.well.testaporta")
    
@bot.message_handler(commands=["Teste_SMTP"])
def Teste_SMTP(mensagem):
    bot.send_message(mensagem.chat.id, "https://play.google.com/store/apps/details?id=br.com.well.testesmtp")
    
@bot.message_handler(commands=["Soteador_Pro"])
def Soteador_Pro(mensagem):
    bot.send_message(mensagem.chat.id, "https://play.google.com/store/apps/details?id=br.com.well.sortearpro")
    
@bot.message_handler(commands=["Tia_Francy_Kids"])
def Tia_Francy_Kids(mensagem):
    bot.send_message(mensagem.chat.id, "https://play.google.com/store/apps/details?id=kids.francy.tia.com.br.tiafrancykids")

@bot.message_handler(commands=["IMC_Peso_Ideal"])
def IMC_Peso_Ideal(mensagem):
    bot.send_message(mensagem.chat.id, "https://play.google.com/store/apps/details?id=imc.maxwellfreire.aplicativo.br.imc") 
    
@bot.message_handler(commands=["opcao1"])
def opcao1(mensagem):
    texto = """
    O que você quer? (Clique em uma opção)
    /Enigma_free
    /Enigma_Pro
    /Soteador
    /Testa_porta
    /Teste_SMTP
    /Soteador_Pro
    /Tia_Francy_Kids
    /IMC_Peso_Ideal
    """
    bot.send_message(mensagem.chat.id, texto)

@bot.message_handler(commands=["opcao2"])
def opcao2(mensagem):
    bot.send_message(mensagem.chat.id, "Nunca foi tão fácil de enviar uma reclamação, mande um e-mail para maxwell201414@gmail.com")

@bot.message_handler(commands=["opcao3"])
def opcao3(mensagem):
    bot.send_message(mensagem.chat.id, "Valeu! Jeiel mandou um abraço de volta")



def verificar(mensagem):
    return True

@bot.message_handler(func=verificar)
def responder(mensagem):
    texto = """
    Escolha uma opção para continuar (Clique no item):
     /opcao1 Apps do Max
     /opcao2 Reclamar de um app
     /opcao3 Mandar um abraço pro Jeiel"""
    bot.reply_to(mensagem, texto)

bot.polling()
