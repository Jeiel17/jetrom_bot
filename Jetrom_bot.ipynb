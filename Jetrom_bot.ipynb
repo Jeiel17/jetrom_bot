{
 "cells": [
  {
   "cell_type": "code",
   "execution_count": 1,
   "metadata": {},
   "outputs": [
    {
     "name": "stdout",
     "output_type": "stream",
     "text": [
      "Collecting pytelegrambotapi\n",
      "  Downloading pyTelegramBotAPI-4.4.0.tar.gz (147 kB)\n",
      "\u001b[K     |████████████████████████████████| 147 kB 1.0 MB/s eta 0:00:01\n",
      "\u001b[?25hRequirement already satisfied: requests in ./anaconda3/lib/python3.7/site-packages (from pytelegrambotapi) (2.22.0)\n",
      "Requirement already satisfied: idna<2.9,>=2.5 in ./anaconda3/lib/python3.7/site-packages (from requests->pytelegrambotapi) (2.8)\n",
      "Requirement already satisfied: chardet<3.1.0,>=3.0.2 in ./anaconda3/lib/python3.7/site-packages (from requests->pytelegrambotapi) (3.0.4)\n",
      "Requirement already satisfied: urllib3!=1.25.0,!=1.25.1,<1.26,>=1.21.1 in ./anaconda3/lib/python3.7/site-packages (from requests->pytelegrambotapi) (1.25.8)\n",
      "Requirement already satisfied: certifi>=2017.4.17 in ./anaconda3/lib/python3.7/site-packages (from requests->pytelegrambotapi) (2019.11.28)\n",
      "Building wheels for collected packages: pytelegrambotapi\n",
      "  Building wheel for pytelegrambotapi (setup.py) ... \u001b[?25ldone\n",
      "\u001b[?25h  Created wheel for pytelegrambotapi: filename=pyTelegramBotAPI-4.4.0-py3-none-any.whl size=128115 sha256=933c22c053124c0aadcf1eaf933b36b6e82582c5f21904a172cbad99bc39b08f\n",
      "  Stored in directory: /home/jeiel/.cache/pip/wheels/1e/6d/ff/435b12799b8212017f08dbbfdb7a1e5174d72d20fb7c0f4703\n",
      "Successfully built pytelegrambotapi\n",
      "Installing collected packages: pytelegrambotapi\n",
      "Successfully installed pytelegrambotapi-4.4.0\n",
      "Note: you may need to restart the kernel to use updated packages.\n"
     ]
    }
   ],
   "source": [
    "pip install pytelegrambotapi"
   ]
  },
  {
   "cell_type": "code",
   "execution_count": null,
   "metadata": {},
   "outputs": [],
   "source": [
    "import telebot\n",
    "\n",
    "CHAVE_API = \"5213041393:AAHnIzLYle6o7uFjQi3RILaGDh3YHlkYWMA\"\n",
    "\n",
    "bot = telebot.TeleBot(CHAVE_API)\n",
    "\n",
    "@bot.message_handler(commands=[\"Enigma_free\"])\n",
    "def Enigma_free(mensagem):\n",
    "    bot.send_message(mensagem.chat.id, \"https://play.google.com/store/apps/details?id=br.com.well.enigma\")\n",
    "\n",
    "@bot.message_handler(commands=[\"Enigma_Pro\"])\n",
    "def Enigma_Pro(mensagem):\n",
    "    bot.send_message(mensagem.chat.id, \"https://play.google.com/store/apps/details?id=br.com.well.enigmapro\")\n",
    "\n",
    "@bot.message_handler(commands=[\"Soteador\"])\n",
    "def Soteador(mensagem):\n",
    "    bot.send_message(mensagem.chat.id, \"https://play.google.com/store/apps/details?id=br.com.well.sortear\")\n",
    "    \n",
    "@bot.message_handler(commands=[\"Testa_porta\"])\n",
    "def Testa_porta(mensagem):\n",
    "    bot.send_message(mensagem.chat.id, \"https://play.google.com/store/apps/details?id=br.com.well.testaporta\")\n",
    "    \n",
    "@bot.message_handler(commands=[\"Teste_SMTP\"])\n",
    "def Teste_SMTP(mensagem):\n",
    "    bot.send_message(mensagem.chat.id, \"https://play.google.com/store/apps/details?id=br.com.well.testesmtp\")\n",
    "    \n",
    "@bot.message_handler(commands=[\"Soteador_Pro\"])\n",
    "def Soteador_Pro(mensagem):\n",
    "    bot.send_message(mensagem.chat.id, \"https://play.google.com/store/apps/details?id=br.com.well.sortearpro\")\n",
    "    \n",
    "@bot.message_handler(commands=[\"Tia_Francy_Kids\"])\n",
    "def Tia_Francy_Kids(mensagem):\n",
    "    bot.send_message(mensagem.chat.id, \"https://play.google.com/store/apps/details?id=kids.francy.tia.com.br.tiafrancykids\")\n",
    "\n",
    "@bot.message_handler(commands=[\"IMC_Peso_Ideal\"])\n",
    "def IMC_Peso_Ideal(mensagem):\n",
    "    bot.send_message(mensagem.chat.id, \"https://play.google.com/store/apps/details?id=imc.maxwellfreire.aplicativo.br.imc\") \n",
    "    \n",
    "@bot.message_handler(commands=[\"opcao1\"])\n",
    "def opcao1(mensagem):\n",
    "    texto = \"\"\"\n",
    "    O que você quer? (Clique em uma opção)\n",
    "    /Enigma_free\n",
    "    /Enigma_Pro\n",
    "    /Soteador\n",
    "    /Testa_porta\n",
    "    /Teste_SMTP\n",
    "    /Soteador_Pro\n",
    "    /Tia_Francy_Kids\n",
    "    /IMC_Peso_Ideal\n",
    "    \"\"\"\n",
    "    bot.send_message(mensagem.chat.id, texto)\n",
    "\n",
    "@bot.message_handler(commands=[\"opcao2\"])\n",
    "def opcao2(mensagem):\n",
    "    bot.send_message(mensagem.chat.id, \"Nunca foi tão fácil de enviar uma reclamação, mande um e-mail para maxwell201414@gmail.com\")\n",
    "\n",
    "@bot.message_handler(commands=[\"opcao3\"])\n",
    "def opcao3(mensagem):\n",
    "    bot.send_message(mensagem.chat.id, \"Valeu! Jeiel mandou um abraço de volta\")\n",
    "\n",
    "\n",
    "\n",
    "def verificar(mensagem):\n",
    "    return True\n",
    "\n",
    "@bot.message_handler(func=verificar)\n",
    "def responder(mensagem):\n",
    "    texto = \"\"\"\n",
    "    Escolha uma opção para continuar (Clique no item):\n",
    "     /opcao1 Apps do Max\n",
    "     /opcao2 Reclamar de um app\n",
    "     /opcao3 Mandar um abraço pro Jeiel\"\"\"\n",
    "    bot.reply_to(mensagem, texto)\n",
    "\n",
    "bot.polling()"
   ]
  },
  {
   "cell_type": "code",
   "execution_count": null,
   "metadata": {},
   "outputs": [],
   "source": []
  }
 ],
 "metadata": {
  "kernelspec": {
   "display_name": "Python 3",
   "language": "python",
   "name": "python3"
  },
  "language_info": {
   "codemirror_mode": {
    "name": "ipython",
    "version": 3
   },
   "file_extension": ".py",
   "mimetype": "text/x-python",
   "name": "python",
   "nbconvert_exporter": "python",
   "pygments_lexer": "ipython3",
   "version": "3.7.6"
  }
 },
 "nbformat": 4,
 "nbformat_minor": 4
}
