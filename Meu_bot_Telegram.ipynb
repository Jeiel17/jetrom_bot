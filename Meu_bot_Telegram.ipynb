{
  "nbformat": 4,
  "nbformat_minor": 0,
  "metadata": {
    "colab": {
      "name": "Meu bot Telegram.ipynb",
      "provenance": [],
      "collapsed_sections": [],
      "authorship_tag": "ABX9TyPQFHZn1jbTe9kO7vFcvEZB",
      "include_colab_link": true
    },
    "kernelspec": {
      "name": "python3",
      "display_name": "Python 3"
    },
    "language_info": {
      "name": "python"
    }
  },
  "cells": [
    {
      "cell_type": "markdown",
      "metadata": {
        "id": "view-in-github",
        "colab_type": "text"
      },
      "source": [
        "<a href=\"https://colab.research.google.com/github/Jeiel17/jetrom_bot/blob/main/Meu_bot_Telegram.ipynb\" target=\"_parent\"><img src=\"https://colab.research.google.com/assets/colab-badge.svg\" alt=\"Open In Colab\"/></a>"
      ]
    },
    {
      "cell_type": "code",
      "execution_count": 1,
      "metadata": {
        "id": "jMwxsbIDDM3p",
        "outputId": "af8488d4-2447-4efa-c8ea-fbbccd6b8cc4",
        "colab": {
          "base_uri": "https://localhost:8080/"
        }
      },
      "outputs": [
        {
          "output_type": "stream",
          "name": "stdout",
          "text": [
            "Collecting pytelegrambotapi\n",
            "  Downloading pyTelegramBotAPI-4.4.0.tar.gz (147 kB)\n",
            "\u001b[?25l\r\u001b[K     |██▎                             | 10 kB 17.6 MB/s eta 0:00:01\r\u001b[K     |████▌                           | 20 kB 11.8 MB/s eta 0:00:01\r\u001b[K     |██████▊                         | 30 kB 9.3 MB/s eta 0:00:01\r\u001b[K     |█████████                       | 40 kB 8.6 MB/s eta 0:00:01\r\u001b[K     |███████████▏                    | 51 kB 4.6 MB/s eta 0:00:01\r\u001b[K     |█████████████▍                  | 61 kB 5.4 MB/s eta 0:00:01\r\u001b[K     |███████████████▋                | 71 kB 5.5 MB/s eta 0:00:01\r\u001b[K     |█████████████████▉              | 81 kB 4.1 MB/s eta 0:00:01\r\u001b[K     |████████████████████            | 92 kB 4.6 MB/s eta 0:00:01\r\u001b[K     |██████████████████████▎         | 102 kB 5.1 MB/s eta 0:00:01\r\u001b[K     |████████████████████████▌       | 112 kB 5.1 MB/s eta 0:00:01\r\u001b[K     |██████████████████████████▊     | 122 kB 5.1 MB/s eta 0:00:01\r\u001b[K     |█████████████████████████████   | 133 kB 5.1 MB/s eta 0:00:01\r\u001b[K     |███████████████████████████████▏| 143 kB 5.1 MB/s eta 0:00:01\r\u001b[K     |████████████████████████████████| 147 kB 5.1 MB/s \n",
            "\u001b[?25hRequirement already satisfied: requests in /usr/local/lib/python3.7/dist-packages (from pytelegrambotapi) (2.23.0)\n",
            "Requirement already satisfied: idna<3,>=2.5 in /usr/local/lib/python3.7/dist-packages (from requests->pytelegrambotapi) (2.10)\n",
            "Requirement already satisfied: certifi>=2017.4.17 in /usr/local/lib/python3.7/dist-packages (from requests->pytelegrambotapi) (2021.10.8)\n",
            "Requirement already satisfied: urllib3!=1.25.0,!=1.25.1,<1.26,>=1.21.1 in /usr/local/lib/python3.7/dist-packages (from requests->pytelegrambotapi) (1.24.3)\n",
            "Requirement already satisfied: chardet<4,>=3.0.2 in /usr/local/lib/python3.7/dist-packages (from requests->pytelegrambotapi) (3.0.4)\n",
            "Building wheels for collected packages: pytelegrambotapi\n",
            "  Building wheel for pytelegrambotapi (setup.py) ... \u001b[?25l\u001b[?25hdone\n",
            "  Created wheel for pytelegrambotapi: filename=pyTelegramBotAPI-4.4.0-py3-none-any.whl size=128152 sha256=861f0dbe4197ec1d69f1d14c989ce89439a89f3b44894d7e1114bf66fd4a2fde\n",
            "  Stored in directory: /root/.cache/pip/wheels/1e/6d/ff/435b12799b8212017f08dbbfdb7a1e5174d72d20fb7c0f4703\n",
            "Successfully built pytelegrambotapi\n",
            "Installing collected packages: pytelegrambotapi\n",
            "Successfully installed pytelegrambotapi-4.4.0\n"
          ]
        }
      ],
      "source": [
        "pip install pytelegrambotapi"
      ]
    },
    {
      "cell_type": "code",
      "source": [
        "import telebot\n",
        "\n",
        "CHAVE_API = \"My token Telegram\"\n",
        "\n",
        "bot = telebot.TeleBot(CHAVE_API)\n",
        "\n",
        "    ##Opção 1.1\n",
        "\n",
        "@bot.message_handler(commands=[\"Enigma_free\"])\n",
        "def Enigma_free(mensagem):\n",
        "    bot.send_message(mensagem.chat.id, \"https://play.google.com/store/apps/details?id=br.com.well.enigma\")\n",
        "\n",
        "@bot.message_handler(commands=[\"Enigma_Pro\"])\n",
        "def Enigma_Pro(mensagem):\n",
        "    bot.send_message(mensagem.chat.id, \"https://play.google.com/store/apps/details?id=br.com.well.enigmapro\")\n",
        "\n",
        "@bot.message_handler(commands=[\"Soteador\"])\n",
        "def Soteador(mensagem):\n",
        "    bot.send_message(mensagem.chat.id, \"https://play.google.com/store/apps/details?id=br.com.well.sortear\")\n",
        "    \n",
        "@bot.message_handler(commands=[\"Testa_porta\"])\n",
        "def Testa_porta(mensagem):\n",
        "    bot.send_message(mensagem.chat.id, \"https://play.google.com/store/apps/details?id=br.com.well.testaporta\")\n",
        "    \n",
        "@bot.message_handler(commands=[\"Teste_SMTP\"])\n",
        "def Teste_SMTP(mensagem):\n",
        "    bot.send_message(mensagem.chat.id, \"https://play.google.com/store/apps/details?id=br.com.well.testesmtp\")\n",
        "    \n",
        "@bot.message_handler(commands=[\"Soteador_Pro\"])\n",
        "def Soteador_Pro(mensagem):\n",
        "    bot.send_message(mensagem.chat.id, \"https://play.google.com/store/apps/details?id=br.com.well.sortearpro\")\n",
        "    \n",
        "@bot.message_handler(commands=[\"Tia_Francy_Kids\"])\n",
        "def Tia_Francy_Kids(mensagem):\n",
        "    bot.send_message(mensagem.chat.id, \"https://play.google.com/store/apps/details?id=kids.francy.tia.com.br.tiafrancykids\")\n",
        "\n",
        "@bot.message_handler(commands=[\"IMC_Peso_Ideal\"])\n",
        "def IMC_Peso_Ideal(mensagem):\n",
        "    bot.send_message(mensagem.chat.id, \"https://play.google.com/store/apps/details?id=imc.maxwellfreire.aplicativo.br.imc\")\n",
        "\n",
        "    ## Guia do app Enigma 1.0\n",
        "\n",
        "@bot.message_handler(commands=[\"Como_mandar_trava_ou_usar_enigma\"])\n",
        "def Como_mandar_trava_ou_usar_enigma(mensagem):\n",
        "    bot.send_message(mensagem.chat.id, \"https://www.youtube.com/watch?v=fx3WiHkGpB8\") \n",
        "\n",
        "    ## Opcção 1.0\n",
        "    \n",
        "@bot.message_handler(commands=[\"op1\"])\n",
        "def op1(mensagem):\n",
        "    texto = \"\"\"\n",
        "    O que você quer? (Clique em uma opção)\n",
        "    /Enigma_free\n",
        "    /Enigma_Pro\n",
        "    /Soteador\n",
        "    /Testa_porta\n",
        "    /Teste_SMTP\n",
        "    /Soteador_Pro\n",
        "    /Tia_Francy_Kids\n",
        "    /IMC_Peso_Ideal\n",
        "    \"\"\"\n",
        "    bot.send_message(mensagem.chat.id, texto)\n",
        "\n",
        "    ## Guia do app Enigma 1.1\n",
        "\n",
        "@bot.message_handler(commands=[\"h\"])\n",
        "def h(mensagem):\n",
        "    texto = \"\"\"\n",
        "    Ajudo em quer? (Clique em uma opção)\n",
        "    /Como_mandar_trava_ou_usar_enigma\n",
        "    \"\"\"\n",
        "    bot.send_message(mensagem.chat.id, texto)\n",
        "\n",
        "@bot.message_handler(commands=[\"op2\"])\n",
        "def op2(mensagem):\n",
        "    bot.send_message(mensagem.chat.id, \"Nunca foi tão fácil de enviar uma reclamação, mande um e-mail para maxwellplayaplicativos@gmail.com\")\n",
        "\n",
        "@bot.message_handler(commands=[\"op3\"])\n",
        "def op3(mensagem):\n",
        "    bot.send_message(mensagem.chat.id, \"Valeu! Jeiel mandou um abraço de volta\")\n",
        "\n",
        "@bot.message_handler(commands=[\"op4\"])\n",
        "def op4(mensagem):\n",
        "    bot.send_message(mensagem.chat.id, \"Instagram http://encurtador.com.br/elPQ6\\nTiktok https://www.tiktok.com/@maxwellfreire0?\\nFacebook http://encurtador.com.br/npyIM\\nYoutube http://encurtador.com.br/ijBR4\\nSite oficial https://maxwellplay.blogspot.com/\")\n",
        "\n",
        "\n",
        "    ## Configuração inicial\n",
        "\n",
        "def verificar(mensagem):\n",
        "    return True\n",
        "\n",
        "@bot.message_handler(func=verificar)\n",
        "def responder(mensagem):\n",
        "    texto = \"\"\"\n",
        "    Lembrete: O bot não fica 24h online, pois precisa dormir. 🤖\n",
        "\n",
        "    Escolha uma opção para continuar (Clique no item):\n",
        "     /op1 Apps do Max\n",
        "     /op2 Reclamar de um app\n",
        "     /op3 Mandar um abraço pro Jeiel\n",
        "     /op4 Redes sociais do Max\n",
        "     /h Guia Enigma (yt)\n",
        "     \"\"\"\n",
        "    bot.reply_to(mensagem, texto)\n",
        "\n",
        "bot.polling()"
      ],
      "metadata": {
        "id": "dUlYiKlmDPVN"
      },
      "execution_count": null,
      "outputs": []
    },
    {
      "cell_type": "code",
      "source": [
        ""
      ],
      "metadata": {
        "id": "IYpTRx-l-vHZ"
      },
      "execution_count": null,
      "outputs": []
    }
  ]
}